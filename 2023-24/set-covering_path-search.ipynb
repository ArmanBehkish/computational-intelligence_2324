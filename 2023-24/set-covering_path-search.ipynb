{
 "cells": [
  {
   "cell_type": "markdown",
   "metadata": {},
   "source": [
    "Copyright **`(c)`** 2023 Giovanni Squillero `<giovanni.squillero@polito.it>`  \n",
    "[`https://github.com/squillero/computational-intelligence`](https://github.com/squillero/computational-intelligence)  \n",
    "Free for personal or classroom use; see [`LICENSE.md`](https://github.com/squillero/computational-intelligence/blob/master/LICENSE.md) for details.  "
   ]
  },
  {
   "cell_type": "code",
   "execution_count": 143,
   "metadata": {},
   "outputs": [],
   "source": [
    "from random import random\n",
    "from math import ceil\n",
    "from functools import reduce\n",
    "from collections import namedtuple, deque\n",
    "from queue import PriorityQueue\n",
    "import itertools\n",
    "\n",
    "import numpy as np\n",
    "from tqdm.auto import tqdm"
   ]
  },
  {
   "cell_type": "code",
   "execution_count": 144,
   "metadata": {},
   "outputs": [],
   "source": [
    "State = namedtuple('State', ['taken', 'not_taken'])\n",
    "\n",
    "\n",
    "def covered(state):\n",
    "    return reduce(\n",
    "        np.logical_or,\n",
    "        [SETS[i] for i in state.taken],\n",
    "        np.array([False for _ in range(PROBLEM_SIZE)]),\n",
    "    )\n",
    "\n",
    "\n",
    "def goal_check(state):\n",
    "    return np.all(covered(state))\n",
    "\n",
    "#print(State(set(range(NUM_SETS)),set()))"
   ]
  },
  {
   "cell_type": "code",
   "execution_count": 145,
   "metadata": {},
   "outputs": [],
   "source": [
    "PROBLEM_SIZE = 15\n",
    "NUM_SETS = 25\n",
    "SETS = tuple(np.array([random() < 0.2 for _ in range(PROBLEM_SIZE)]) \n",
    "for _ in range(NUM_SETS))\n",
    "assert goal_check(State(set(range(NUM_SETS)), set())), \"Probelm not solvable\""
   ]
  },
  {
   "cell_type": "markdown",
   "metadata": {},
   "source": [
    "## Depth First"
   ]
  },
  {
   "cell_type": "code",
   "execution_count": 146,
   "metadata": {},
   "outputs": [
    {
     "data": {
      "application/vnd.jupyter.widget-view+json": {
       "model_id": "80b3d7aa09a24954a6dc9a47dd8ff16d",
       "version_major": 2,
       "version_minor": 0
      },
      "text/plain": [
       "0it [00:00, ?it/s]"
      ]
     },
     "metadata": {},
     "output_type": "display_data"
    },
    {
     "name": "stdout",
     "output_type": "stream",
     "text": [
      "Solved in 24 steps (24 tiles)\n"
     ]
    }
   ],
   "source": [
    "frontier = deque()\n",
    "state = State(set(), set(range(NUM_SETS)))\n",
    "frontier.append(state)\n",
    "\n",
    "counter = 0\n",
    "current_state = frontier.pop()\n",
    "with tqdm(total=None) as pbar:\n",
    "    while not goal_check(current_state):\n",
    "        counter += 1\n",
    "        for action in current_state[1]:\n",
    "            new_state = State(\n",
    "                current_state.taken ^ {action},\n",
    "                current_state.not_taken ^ {action},\n",
    "            )\n",
    "            frontier.append(new_state)\n",
    "        current_state = frontier.pop()\n",
    "        pbar.update(1)\n",
    "\n",
    "print(f\"Solved in {counter:,} steps ({len(current_state.taken)} tiles)\")"
   ]
  },
  {
   "cell_type": "markdown",
   "metadata": {},
   "source": [
    "## Breadth First"
   ]
  },
  {
   "cell_type": "code",
   "execution_count": 147,
   "metadata": {},
   "outputs": [],
   "source": [
    "# frontier = deque()\n",
    "# state = State(set(), set(range(NUM_SETS)))\n",
    "# frontier.append(state)\n",
    "\n",
    "# counter = 0\n",
    "# current_state = frontier.popleft()\n",
    "# with tqdm(total=None) as pbar:\n",
    "#     while not goal_check(current_state):\n",
    "#         counter += 1\n",
    "#         for action in current_state[1]:\n",
    "#             new_state = State(\n",
    "#                 current_state.taken ^ {action},\n",
    "#                 current_state.not_taken ^ {action},\n",
    "#             )\n",
    "#             frontier.append(new_state)\n",
    "#         current_state = frontier.popleft()\n",
    "#         pbar.update(1)\n",
    "\n",
    "# print(f\"Solved in {counter:,} steps ({len(current_state.taken)} tiles)\")"
   ]
  },
  {
   "cell_type": "markdown",
   "metadata": {},
   "source": [
    "## Greedy Best First"
   ]
  },
  {
   "cell_type": "code",
   "execution_count": 148,
   "metadata": {},
   "outputs": [],
   "source": [
    "def f(state):\n",
    "    missing_size = PROBLEM_SIZE - sum(covered(state))\n",
    "    return missing_size"
   ]
  },
  {
   "cell_type": "code",
   "execution_count": 149,
   "metadata": {},
   "outputs": [
    {
     "data": {
      "application/vnd.jupyter.widget-view+json": {
       "model_id": "6d4d41d6ff2f4daca9569e32b3ad706c",
       "version_major": 2,
       "version_minor": 0
      },
      "text/plain": [
       "0it [00:00, ?it/s]"
      ]
     },
     "metadata": {},
     "output_type": "display_data"
    },
    {
     "name": "stdout",
     "output_type": "stream",
     "text": [
      "Solved in 5 steps (5 tiles)\n"
     ]
    }
   ],
   "source": [
    "frontier = PriorityQueue()\n",
    "state = State(set(), set(range(NUM_SETS)))\n",
    "frontier.put((f(state), state))\n",
    "\n",
    "counter = 0\n",
    "_, current_state = frontier.get()\n",
    "with tqdm(total=None) as pbar:\n",
    "    while not goal_check(current_state):\n",
    "        counter += 1\n",
    "        for action in current_state[1]:\n",
    "            new_state = State(\n",
    "                current_state.taken ^ {action},\n",
    "                current_state.not_taken ^ {action},\n",
    "            )\n",
    "            frontier.put((f(new_state), new_state))\n",
    "        _, current_state = frontier.get()\n",
    "        pbar.update(1)\n",
    "\n",
    "print(f\"Solved in {counter:,} steps ({len(current_state.taken)} tiles)\")"
   ]
  },
  {
   "cell_type": "markdown",
   "metadata": {},
   "source": [
    "## A*"
   ]
  },
  {
   "cell_type": "code",
   "execution_count": 150,
   "metadata": {},
   "outputs": [],
   "source": [
    "def h(state):\n",
    "    largest_set_size = max(sum(s) for s in SETS)\n",
    "    missing_size = PROBLEM_SIZE - sum(covered(state))\n",
    "    optimistic_estimate = ceil(missing_size / largest_set_size)\n",
    "    return optimistic_estimate\n",
    "\n",
    "\n",
    "def h2(state):\n",
    "    already_covered = covered(state)\n",
    "    if np.all(already_covered):\n",
    "        return 0\n",
    "    largest_set_size = max(sum(np.logical_and(s, np.logical_not(already_covered))) for s in SETS)\n",
    "    missing_size = PROBLEM_SIZE - sum(already_covered)\n",
    "    optimistic_estimate = ceil(missing_size / largest_set_size)\n",
    "    return optimistic_estimate\n",
    "\n",
    "\n",
    "def h3(state):\n",
    "    already_covered = covered(state)\n",
    "    if np.all(already_covered):\n",
    "        return 0\n",
    "    missing_size = PROBLEM_SIZE - sum(already_covered)\n",
    "    candidates = sorted((sum(np.logical_and(s, np.logical_not(already_covered))) for s in SETS), reverse=True)\n",
    "    taken = 1\n",
    "    while sum(candidates[:taken]) < missing_size:\n",
    "        taken += 1\n",
    "    return taken\n",
    "\n",
    "\n",
    "def longest_string_size(set):\n",
    "    max_length = max((sum(1 for _ in group) for key, group in itertools.groupby(set) if key), default=0)\n",
    "    return max_length\n",
    "\n",
    "def longest_string_in_takens(state):\n",
    "    max_value = 1\n",
    "    for index in state.taken:\n",
    "        longest = longest_string_size(SETS[index])\n",
    "        if longest > max_value:\n",
    "            max_value = longest\n",
    "    return max_value\n",
    "\n",
    "def h4(state):\n",
    "    '''first version of h4\n",
    "    trying to build a heuristic that takes into account the length of longest string in selected sets.\n",
    "    H(.) to be admissible should be <= PROBLEM_SIZE - missing_size'''\n",
    "    #estimate = PROBLEM_SIZE / longest_string_in_takens(state)\n",
    "    h_estimate = longest_string_in_takens(state) - 1\n",
    "    \n",
    "    #assert h_estimate >= sum(covered(state)), f\"h(state): {h_estimate} seems h is not admissible\"\n",
    "    #distance = estimate * (PROBLEM_SIZE -1)\n",
    "    return h_estimate\n",
    "\n",
    "\n",
    "def f(state):\n",
    "    missing_size = PROBLEM_SIZE - sum(covered(state))\n",
    "    print (f\"g: {missing_size} h: {h4(state)} problem_size - missing_size: {sum(covered(state))}\")\n",
    "    return missing_size + h4(state)"
   ]
  },
  {
   "cell_type": "code",
   "execution_count": 151,
   "metadata": {},
   "outputs": [
    {
     "name": "stdout",
     "output_type": "stream",
     "text": [
      "g: 15 h: 0 problem_size - missing_size: 0\n"
     ]
    },
    {
     "data": {
      "application/vnd.jupyter.widget-view+json": {
       "model_id": "505ba0e05282436299a1583e1e62952c",
       "version_major": 2,
       "version_minor": 0
      },
      "text/plain": [
       "0it [00:00, ?it/s]"
      ]
     },
     "metadata": {},
     "output_type": "display_data"
    },
    {
     "name": "stdout",
     "output_type": "stream",
     "text": [
      "g: 11 h: 0 problem_size - missing_size: 4\n",
      "g: 11 h: 1 problem_size - missing_size: 4\n",
      "g: 13 h: 1 problem_size - missing_size: 2\n",
      "g: 10 h: 3 problem_size - missing_size: 5\n",
      "g: 13 h: 0 problem_size - missing_size: 2\n",
      "g: 11 h: 1 problem_size - missing_size: 4\n",
      "g: 12 h: 0 problem_size - missing_size: 3\n",
      "g: 11 h: 0 problem_size - missing_size: 4\n",
      "g: 13 h: 0 problem_size - missing_size: 2\n",
      "g: 13 h: 0 problem_size - missing_size: 2\n",
      "g: 12 h: 0 problem_size - missing_size: 3\n",
      "g: 10 h: 1 problem_size - missing_size: 5\n",
      "g: 12 h: 1 problem_size - missing_size: 3\n",
      "g: 12 h: 1 problem_size - missing_size: 3\n",
      "g: 11 h: 0 problem_size - missing_size: 4\n",
      "g: 11 h: 1 problem_size - missing_size: 4\n",
      "g: 14 h: 0 problem_size - missing_size: 1\n",
      "g: 10 h: 0 problem_size - missing_size: 5\n",
      "g: 12 h: 1 problem_size - missing_size: 3\n",
      "g: 12 h: 0 problem_size - missing_size: 3\n",
      "g: 14 h: 0 problem_size - missing_size: 1\n",
      "g: 12 h: 0 problem_size - missing_size: 3\n",
      "g: 13 h: 0 problem_size - missing_size: 2\n",
      "g: 13 h: 0 problem_size - missing_size: 2\n",
      "g: 12 h: 0 problem_size - missing_size: 3\n",
      "g: 7 h: 0 problem_size - missing_size: 8\n",
      "g: 7 h: 1 problem_size - missing_size: 8\n",
      "g: 9 h: 1 problem_size - missing_size: 6\n",
      "g: 7 h: 3 problem_size - missing_size: 8\n",
      "g: 8 h: 0 problem_size - missing_size: 7\n",
      "g: 7 h: 1 problem_size - missing_size: 8\n",
      "g: 8 h: 0 problem_size - missing_size: 7\n",
      "g: 8 h: 0 problem_size - missing_size: 7\n",
      "g: 10 h: 0 problem_size - missing_size: 5\n",
      "g: 8 h: 0 problem_size - missing_size: 7\n",
      "g: 9 h: 0 problem_size - missing_size: 6\n",
      "g: 8 h: 1 problem_size - missing_size: 7\n",
      "g: 9 h: 1 problem_size - missing_size: 6\n",
      "g: 7 h: 1 problem_size - missing_size: 8\n",
      "g: 7 h: 0 problem_size - missing_size: 8\n",
      "g: 7 h: 1 problem_size - missing_size: 8\n",
      "g: 9 h: 0 problem_size - missing_size: 6\n",
      "g: 7 h: 1 problem_size - missing_size: 8\n",
      "g: 7 h: 0 problem_size - missing_size: 8\n",
      "g: 9 h: 0 problem_size - missing_size: 6\n",
      "g: 8 h: 0 problem_size - missing_size: 7\n",
      "g: 8 h: 0 problem_size - missing_size: 7\n",
      "g: 9 h: 0 problem_size - missing_size: 6\n",
      "g: 9 h: 0 problem_size - missing_size: 6\n",
      "g: 6 h: 1 problem_size - missing_size: 9\n",
      "g: 6 h: 1 problem_size - missing_size: 9\n",
      "g: 5 h: 3 problem_size - missing_size: 10\n",
      "g: 5 h: 0 problem_size - missing_size: 10\n",
      "g: 5 h: 1 problem_size - missing_size: 10\n",
      "g: 6 h: 0 problem_size - missing_size: 9\n",
      "g: 6 h: 0 problem_size - missing_size: 9\n",
      "g: 7 h: 0 problem_size - missing_size: 8\n",
      "g: 6 h: 0 problem_size - missing_size: 9\n",
      "g: 6 h: 0 problem_size - missing_size: 9\n",
      "g: 5 h: 1 problem_size - missing_size: 10\n",
      "g: 6 h: 1 problem_size - missing_size: 9\n",
      "g: 5 h: 1 problem_size - missing_size: 10\n",
      "g: 4 h: 0 problem_size - missing_size: 11\n",
      "g: 4 h: 1 problem_size - missing_size: 11\n",
      "g: 6 h: 0 problem_size - missing_size: 9\n",
      "g: 5 h: 1 problem_size - missing_size: 10\n",
      "g: 6 h: 0 problem_size - missing_size: 9\n",
      "g: 6 h: 0 problem_size - missing_size: 9\n",
      "g: 6 h: 0 problem_size - missing_size: 9\n",
      "g: 6 h: 0 problem_size - missing_size: 9\n",
      "g: 6 h: 0 problem_size - missing_size: 9\n",
      "g: 6 h: 0 problem_size - missing_size: 9\n",
      "g: 4 h: 1 problem_size - missing_size: 11\n",
      "g: 4 h: 1 problem_size - missing_size: 11\n",
      "g: 4 h: 3 problem_size - missing_size: 11\n",
      "g: 4 h: 0 problem_size - missing_size: 11\n",
      "g: 3 h: 1 problem_size - missing_size: 12\n",
      "g: 3 h: 0 problem_size - missing_size: 12\n",
      "g: 3 h: 0 problem_size - missing_size: 12\n",
      "g: 4 h: 0 problem_size - missing_size: 11\n",
      "g: 4 h: 0 problem_size - missing_size: 11\n",
      "g: 4 h: 0 problem_size - missing_size: 11\n",
      "g: 4 h: 1 problem_size - missing_size: 11\n",
      "g: 3 h: 1 problem_size - missing_size: 12\n",
      "g: 3 h: 1 problem_size - missing_size: 12\n",
      "g: 2 h: 1 problem_size - missing_size: 13\n",
      "g: 4 h: 0 problem_size - missing_size: 11\n",
      "g: 4 h: 1 problem_size - missing_size: 11\n",
      "g: 3 h: 0 problem_size - missing_size: 12\n",
      "g: 3 h: 0 problem_size - missing_size: 12\n",
      "g: 3 h: 0 problem_size - missing_size: 12\n",
      "g: 3 h: 0 problem_size - missing_size: 12\n",
      "g: 3 h: 0 problem_size - missing_size: 12\n",
      "g: 3 h: 0 problem_size - missing_size: 12\n",
      "g: 3 h: 1 problem_size - missing_size: 12\n",
      "g: 3 h: 1 problem_size - missing_size: 12\n",
      "g: 3 h: 3 problem_size - missing_size: 12\n",
      "g: 3 h: 0 problem_size - missing_size: 12\n",
      "g: 2 h: 1 problem_size - missing_size: 13\n",
      "g: 2 h: 0 problem_size - missing_size: 13\n",
      "g: 3 h: 0 problem_size - missing_size: 12\n",
      "g: 3 h: 0 problem_size - missing_size: 12\n",
      "g: 3 h: 0 problem_size - missing_size: 12\n",
      "g: 3 h: 1 problem_size - missing_size: 12\n",
      "g: 2 h: 1 problem_size - missing_size: 13\n",
      "g: 2 h: 1 problem_size - missing_size: 13\n",
      "g: 1 h: 1 problem_size - missing_size: 14\n",
      "g: 3 h: 0 problem_size - missing_size: 12\n",
      "g: 3 h: 1 problem_size - missing_size: 12\n",
      "g: 2 h: 0 problem_size - missing_size: 13\n",
      "g: 2 h: 0 problem_size - missing_size: 13\n",
      "g: 2 h: 0 problem_size - missing_size: 13\n",
      "g: 2 h: 0 problem_size - missing_size: 13\n",
      "g: 2 h: 0 problem_size - missing_size: 13\n",
      "g: 2 h: 0 problem_size - missing_size: 13\n",
      "g: 2 h: 1 problem_size - missing_size: 13\n",
      "g: 2 h: 1 problem_size - missing_size: 13\n",
      "g: 2 h: 3 problem_size - missing_size: 13\n",
      "g: 2 h: 0 problem_size - missing_size: 13\n",
      "g: 1 h: 1 problem_size - missing_size: 14\n",
      "g: 2 h: 0 problem_size - missing_size: 13\n",
      "g: 2 h: 0 problem_size - missing_size: 13\n",
      "g: 2 h: 0 problem_size - missing_size: 13\n",
      "g: 2 h: 1 problem_size - missing_size: 13\n",
      "g: 1 h: 1 problem_size - missing_size: 14\n",
      "g: 2 h: 1 problem_size - missing_size: 13\n",
      "g: 1 h: 1 problem_size - missing_size: 14\n",
      "g: 2 h: 0 problem_size - missing_size: 13\n",
      "g: 2 h: 1 problem_size - missing_size: 13\n",
      "g: 2 h: 0 problem_size - missing_size: 13\n",
      "g: 2 h: 0 problem_size - missing_size: 13\n",
      "g: 1 h: 0 problem_size - missing_size: 14\n",
      "g: 1 h: 0 problem_size - missing_size: 14\n",
      "g: 1 h: 0 problem_size - missing_size: 14\n",
      "g: 1 h: 0 problem_size - missing_size: 14\n",
      "g: 1 h: 1 problem_size - missing_size: 14\n",
      "g: 1 h: 1 problem_size - missing_size: 14\n",
      "g: 1 h: 3 problem_size - missing_size: 14\n",
      "g: 1 h: 0 problem_size - missing_size: 14\n",
      "g: 1 h: 1 problem_size - missing_size: 14\n",
      "g: 1 h: 0 problem_size - missing_size: 14\n",
      "g: 1 h: 0 problem_size - missing_size: 14\n",
      "g: 1 h: 0 problem_size - missing_size: 14\n",
      "g: 1 h: 1 problem_size - missing_size: 14\n",
      "g: 0 h: 1 problem_size - missing_size: 15\n",
      "g: 1 h: 1 problem_size - missing_size: 14\n",
      "g: 1 h: 1 problem_size - missing_size: 14\n",
      "g: 1 h: 0 problem_size - missing_size: 14\n",
      "g: 1 h: 1 problem_size - missing_size: 14\n",
      "g: 1 h: 0 problem_size - missing_size: 14\n",
      "g: 1 h: 0 problem_size - missing_size: 14\n",
      "g: 0 h: 0 problem_size - missing_size: 15\n",
      "g: 1 h: 0 problem_size - missing_size: 14\n",
      "g: 0 h: 0 problem_size - missing_size: 15\n",
      "Solved in 7 steps (7 tiles)\n"
     ]
    }
   ],
   "source": [
    "frontier = PriorityQueue()\n",
    "state = State(set(), set(range(NUM_SETS)))\n",
    "frontier.put((f(state), state))\n",
    "\n",
    "counter = 0\n",
    "_, current_state = frontier.get()\n",
    "with tqdm(total=None) as pbar:\n",
    "    while not goal_check(current_state):\n",
    "        counter += 1\n",
    "        for action in current_state[1]:\n",
    "            new_state = State(\n",
    "                current_state.taken ^ {action},\n",
    "                current_state.not_taken ^ {action},\n",
    "            )\n",
    "            frontier.put((f(new_state), new_state))\n",
    "        _, current_state = frontier.get()\n",
    "        pbar.update(1)\n",
    "\n",
    "print(f\"Solved in {counter:,} steps ({len(current_state.taken)} tiles)\")"
   ]
  },
  {
   "cell_type": "code",
   "execution_count": null,
   "metadata": {},
   "outputs": [],
   "source": []
  }
 ],
 "metadata": {
  "kernelspec": {
   "display_name": "Python 3 (ipykernel)",
   "language": "python",
   "name": "python3"
  },
  "language_info": {
   "codemirror_mode": {
    "name": "ipython",
    "version": 3
   },
   "file_extension": ".py",
   "mimetype": "text/x-python",
   "name": "python",
   "nbconvert_exporter": "python",
   "pygments_lexer": "ipython3",
   "version": "3.11.3"
  }
 },
 "nbformat": 4,
 "nbformat_minor": 4
}
