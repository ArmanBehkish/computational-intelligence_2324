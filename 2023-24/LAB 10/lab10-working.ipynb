{
 "cells": [
  {
   "cell_type": "markdown",
   "metadata": {},
   "source": [
    "Copyright **`(c)`** 2023 Giovanni Squillero `<giovanni.squillero@polito.it>`  \n",
    "[`https://github.com/squillero/computational-intelligence`](https://github.com/squillero/computational-intelligence)  \n",
    "Free for personal or classroom use; see [`LICENSE.md`](https://github.com/squillero/computational-intelligence/blob/master/LICENSE.md) for details.  "
   ]
  },
  {
   "cell_type": "code",
   "execution_count": 1,
   "metadata": {},
   "outputs": [],
   "source": [
    "from itertools import combinations,product,cycle\n",
    "from collections import namedtuple, defaultdict\n",
    "from random import choice\n",
    "from copy import deepcopy,copy\n",
    "\n",
    "from tqdm.auto import tqdm\n",
    "import numpy as np"
   ]
  },
  {
   "cell_type": "code",
   "execution_count": 2,
   "metadata": {},
   "outputs": [],
   "source": [
    "State = namedtuple('State', ['x', 'o'])\n",
    "MAGIC = [2, 7, 6, 9, 5, 1, 4, 3, 8]"
   ]
  },
  {
   "cell_type": "code",
   "execution_count": 3,
   "metadata": {},
   "outputs": [],
   "source": [
    "def print_board(pos):\n",
    "    \"\"\"Nicely prints the board\"\"\"\n",
    "    for r in range(3):\n",
    "        for c in range(3):\n",
    "            i = r * 3 + c\n",
    "            if MAGIC[i] in pos.x:\n",
    "                print('X', end='')\n",
    "            elif MAGIC[i] in pos.o:\n",
    "                print('O', end='')\n",
    "            else:\n",
    "                print('.', end='')\n",
    "        print()\n",
    "    print()\n"
   ]
  },
  {
   "cell_type": "code",
   "execution_count": 4,
   "metadata": {},
   "outputs": [],
   "source": [
    "def win(elements):\n",
    "    \"\"\"Checks if elements is winning\"\"\"\n",
    "    return any(sum(c) == 15 for c in combinations(elements, 3))\n",
    "\n",
    "def state_value(pos: State): \n",
    "    \"\"\"Evaluate state: +1 first player wins\"\"\"\n",
    "    if win(pos.x):\n",
    "        return 1\n",
    "    elif win(pos.o):\n",
    "        return -1\n",
    "    else:\n",
    "        return 0\n"
   ]
  },
  {
   "cell_type": "code",
   "execution_count": 7,
   "metadata": {},
   "outputs": [],
   "source": [
    "def random_game():\n",
    "    #returns the history (trajectory) of the game played!\n",
    "    trajectory = list()\n",
    "    state = State(set(), set())\n",
    "    available = set(range(1, 9+1))\n",
    "    while available:\n",
    "        x = choice(list(available))\n",
    "        state.x.add(x)\n",
    "        trajectory.append(deepcopy(state))\n",
    "        available.remove(x)\n",
    "        if win(state.x) or not available:\n",
    "            break\n",
    "\n",
    "        o = choice(list(available))\n",
    "        state.o.add(o)\n",
    "        trajectory.append(deepcopy(state))\n",
    "        available.remove(o)\n",
    "        if win(state.o):\n",
    "            break\n",
    "    return trajectory\n"
   ]
  },
  {
   "cell_type": "code",
   "execution_count": 9,
   "metadata": {},
   "outputs": [
    {
     "data": {
      "application/vnd.jupyter.widget-view+json": {
       "model_id": "bd3fcb2250ef45da9ec9145c6bc9fca2",
       "version_major": 2,
       "version_minor": 0
      },
      "text/plain": [
       "  0%|          | 0/500000 [00:00<?, ?it/s]"
      ]
     },
     "metadata": {},
     "output_type": "display_data"
    }
   ],
   "source": [
    "# state-value table\n",
    "value_dictionary = defaultdict(float)\n",
    "# keep counts of all the possible states\n",
    "hit_state = defaultdict(int)\n",
    "# learning rate\n",
    "epsilon = 0.001\n",
    "\n",
    "\n",
    "\n",
    "# generate all possible states of the board\n",
    "all_combinations = [frozenset(item) for r in range(4) for item in combinations(MAGIC,r)]\n",
    "global_states = list(product(all_combinations,all_combinations))\n",
    "# 16900 total states\n",
    "# set the initial value of all the states to 0.5 (50% chance of winning for all states.)\n",
    "for state in global_states:     \n",
    "    value_dictionary[state] = 0.5\n",
    "\n",
    "\n",
    "for steps in tqdm(range(500_000)):\n",
    "    trajectory = random_game()\n",
    "    # final reward of the game\n",
    "    final_reward = state_value(trajectory[-1])\n",
    "    for state in trajectory:\n",
    "        hashable_state = (frozenset(state.x), frozenset(state.o))\n",
    "        hit_state[hashable_state] += 1\n",
    "        value_dictionary[hashable_state] = value_dictionary[\n",
    "            hashable_state\n",
    "        ] + epsilon * (final_reward - value_dictionary[hashable_state])\n"
   ]
  },
  {
   "cell_type": "code",
   "execution_count": 10,
   "metadata": {},
   "outputs": [],
   "source": [
    "\n",
    "best_value_states = [(key,value) for key,value in sorted(value_dictionary.items(), key=lambda e: e[1], reverse=True)[:30] if len(key[0]) <= 2 and len(key[1]) <= 2]\n",
    "\n",
    "for item in best_value_states:\n",
    "    print(item)"
   ]
  },
  {
   "cell_type": "code",
   "execution_count": 14,
   "metadata": {},
   "outputs": [
    {
     "name": "stdout",
     "output_type": "stream",
     "text": [
      "<function rl_move at 0x10dd8f560> won 56.89999999999999% of games, <function random_move at 0x10dd8f1a0> won 19.0% and the number of draws is 24.099999999999998% of games!\n"
     ]
    }
   ],
   "source": [
    "\n",
    "def available_moves(state):\n",
    "    '''returns available moves on the board'''\n",
    "    return set(MAGIC) - (state.x | state.o)\n",
    "\n",
    "def random_move(player, board):\n",
    "    '''do a random move'''\n",
    "    available = available_moves(board)\n",
    "    rand_move = choice(list(available))\n",
    "    cstate = deepcopy(board)\n",
    "    cstate.x.add(rand_move) if player == 'x' else cstate.o.add(rand_move)\n",
    "    return cstate,None\n",
    " \n",
    "\n",
    "def rl_move(player, board, policy=value_dictionary):\n",
    "    '''RL Agent plays moves based on given policy, returns board after move'''\n",
    "    # set of available moves on the board\n",
    "    available = available_moves(board)\n",
    "    # to keep record of possible states\n",
    "    possible_states = []\n",
    "    best_state = None\n",
    "    max_value = 0\n",
    "    \n",
    "    for move in available:\n",
    "        cstate = deepcopy(board)\n",
    "        cstate.x.add(move) if player == 'x' else cstate.o.add(move)\n",
    "        possible_states.append(cstate)\n",
    "        \n",
    "    for state in possible_states:\n",
    "        hashable_state = (frozenset(state.x), frozenset(state.o))\n",
    "        if policy[hashable_state] > max_value:\n",
    "            max_value = policy[hashable_state]\n",
    "            best_state = state\n",
    "    # in case no move in policy, choose a random available move\n",
    "    if best_state is None:\n",
    "        rand_move = choice(list(available))\n",
    "        cstate = deepcopy(board)\n",
    "        cstate.x.add(move) if player == 'x' else cstate.o.add(move)\n",
    "        best_state = cstate\n",
    "        max_value = -1\n",
    "                \n",
    "    return best_state,max_value\n",
    "\n",
    "\n",
    "def play(player1,player2,number_games): \n",
    "    '''play number of games between two strategies and return results'''  \n",
    "    players = [player1,player2]\n",
    "    marks = ['x','o']\n",
    "    wins = [0,0,0]\n",
    "    turn = cycle([0,1])\n",
    "    \n",
    "    for _ in range(number_games):\n",
    "        board = State(set(), set())\n",
    "        while True:\n",
    "            this_turn = next(turn)\n",
    "            board, _ = players[this_turn](marks[this_turn],board)\n",
    "            if win(board.x) or win(board.o):\n",
    "                wins[this_turn] += 1\n",
    "                break\n",
    "            elif len(available_moves(board)) == 0:\n",
    "                # draw\n",
    "                wins[2] += 1\n",
    "                break\n",
    "\n",
    "    return wins\n",
    "        \n",
    "player1 = rl_move\n",
    "player2 = random_move\n",
    "number_games = 1000\n",
    "results = play(player1,player2,number_games)\n",
    "print(f\"{player1} won {results[0]/number_games*100}% of games, {player2} won {results[1]/number_games*100}% and the number of draws is {results[2]/number_games*100}% of games!\")\n",
    "\n"
   ]
  }
 ],
 "metadata": {
  "kernelspec": {
   "display_name": "ci-P-7LqQ3C-py3.11",
   "language": "python",
   "name": "python3"
  },
  "language_info": {
   "codemirror_mode": {
    "name": "ipython",
    "version": 3
   },
   "file_extension": ".py",
   "mimetype": "text/x-python",
   "name": "python",
   "nbconvert_exporter": "python",
   "pygments_lexer": "ipython3",
   "version": "3.11.3"
  }
 },
 "nbformat": 4,
 "nbformat_minor": 2
}
